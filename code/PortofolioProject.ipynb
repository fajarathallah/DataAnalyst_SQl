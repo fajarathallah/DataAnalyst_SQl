{
 "cells": [
  {
   "cell_type": "code",
   "execution_count": 5,
   "metadata": {},
   "outputs": [
    {
     "name": "stdout",
     "output_type": "stream",
     "text": [
      "Requirement already satisfied: pip in c:\\users\\asus\\anaconda3\\lib\\site-packages (23.2.1)\n"
     ]
    },
    {
     "name": "stderr",
     "output_type": "stream",
     "text": [
      "ERROR: Could not find a version that satisfies the requirement install (from versions: none)\n",
      "ERROR: No matching distribution found for install\n"
     ]
    }
   ],
   "source": [
    "! pip install pip install pandas sqlalchemy openpyxl mysql-connector-python psycopg2\n"
   ]
  },
  {
   "cell_type": "code",
   "execution_count": null,
   "metadata": {},
   "outputs": [],
   "source": [
    "! pip install psycopg2-binary"
   ]
  },
  {
   "cell_type": "code",
   "execution_count": 7,
   "metadata": {},
   "outputs": [],
   "source": [
    "import pandas as pd\n",
    "from sqlalchemy import create_engine"
   ]
  },
  {
   "cell_type": "code",
   "execution_count": 15,
   "metadata": {},
   "outputs": [
    {
     "name": "stdout",
     "output_type": "stream",
     "text": [
      "✅ Data berhasil diimpor ke PostgreSQL!\n"
     ]
    }
   ],
   "source": [
    "db_user = \"postgres\"\n",
    "db_pass = \"Yusuf0600\"\n",
    "db_host = \"localhost\"\n",
    "db_name = \"portofolioproject\"\n",
    "\n",
    "#Koneksi ke postgresql\n",
    "engine = create_engine(f\"postgresql://{db_user}:{db_pass}@{db_host}/{db_name}\")\n",
    "\n",
    "# Baca file excel\n",
    "df = pd.read_excel(\"C:/Users/ASUS/Documents/SQL/CovidVaccinations.xlsx\")\n",
    "\n",
    "# Impor data ke database, tabel dibuat otomatis\n",
    "df.to_sql(\"covid_vaksin\", con=engine, if_exists=\"replace\", index=False)\n",
    "\n",
    "print(\"✅ Data berhasil diimpor ke PostgreSQL!\")"
   ]
  },
  {
   "cell_type": "code",
   "execution_count": 17,
   "metadata": {},
   "outputs": [
    {
     "name": "stdout",
     "output_type": "stream",
     "text": [
      "✅ Tabel 'nama_tabel' berhasil dihapus!\n"
     ]
    }
   ],
   "source": [
    "from sqlalchemy import text\n",
    "\n",
    "# Hapus tabel dari database PostgreSQL\n",
    "with engine.begin() as conn:\n",
    "    conn.execute(text(\"DROP TABLE IF EXISTS nama_tabel\"))\n",
    "\n",
    "print(\"✅ Tabel 'nama_tabel' berhasil dihapus!\")\n"
   ]
  },
  {
   "cell_type": "code",
   "execution_count": 18,
   "metadata": {},
   "outputs": [
    {
     "name": "stdout",
     "output_type": "stream",
     "text": [
      "✅ Data berhasil diimpor ke PostgreSQL!\n"
     ]
    }
   ],
   "source": [
    "db_user = \"postgres\"\n",
    "db_pass = \"Yusuf0600\"\n",
    "db_host = \"localhost\"\n",
    "db_name = \"portofolioproject\"\n",
    "\n",
    "#Koneksi ke postgresql\n",
    "engine = create_engine(f\"postgresql://{db_user}:{db_pass}@{db_host}/{db_name}\")\n",
    "\n",
    "# Baca file excel\n",
    "df = pd.read_excel(\"C:/Users/ASUS/Documents/SQL/CovidDeaths1.xlsx\")\n",
    "\n",
    "# Impor data ke database, tabel dibuat otomatis\n",
    "df.to_sql(\"covid_death\", con=engine, if_exists=\"replace\", index=False)\n",
    "\n",
    "print(\"✅ Data berhasil diimpor ke PostgreSQL!\")"
   ]
  }
 ],
 "metadata": {
  "kernelspec": {
   "display_name": "base",
   "language": "python",
   "name": "python3"
  },
  "language_info": {
   "codemirror_mode": {
    "name": "ipython",
    "version": 3
   },
   "file_extension": ".py",
   "mimetype": "text/x-python",
   "name": "python",
   "nbconvert_exporter": "python",
   "pygments_lexer": "ipython3",
   "version": "3.11.5"
  }
 },
 "nbformat": 4,
 "nbformat_minor": 2
}
